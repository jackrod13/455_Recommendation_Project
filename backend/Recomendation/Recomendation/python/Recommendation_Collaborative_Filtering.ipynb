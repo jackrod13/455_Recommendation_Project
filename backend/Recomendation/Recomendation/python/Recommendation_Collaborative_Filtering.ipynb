{
 "cells": [
  {
   "cell_type": "code",
   "execution_count": 1,
   "metadata": {},
   "outputs": [
    {
     "data": {
      "text/html": [
       "<div>\n",
       "<style scoped>\n",
       "    .dataframe tbody tr th:only-of-type {\n",
       "        vertical-align: middle;\n",
       "    }\n",
       "\n",
       "    .dataframe tbody tr th {\n",
       "        vertical-align: top;\n",
       "    }\n",
       "\n",
       "    .dataframe thead th {\n",
       "        text-align: right;\n",
       "    }\n",
       "</style>\n",
       "<table border=\"1\" class=\"dataframe\">\n",
       "  <thead>\n",
       "    <tr style=\"text-align: right;\">\n",
       "      <th></th>\n",
       "      <th>timestamp</th>\n",
       "      <th>eventType</th>\n",
       "      <th>contentId</th>\n",
       "      <th>personId</th>\n",
       "      <th>sessionId</th>\n",
       "      <th>userAgent</th>\n",
       "      <th>userRegion</th>\n",
       "      <th>userCountry</th>\n",
       "    </tr>\n",
       "  </thead>\n",
       "  <tbody>\n",
       "    <tr>\n",
       "      <th>0</th>\n",
       "      <td>1465413032</td>\n",
       "      <td>VIEW</td>\n",
       "      <td>-3499919498720038879</td>\n",
       "      <td>-8845298781299428018</td>\n",
       "      <td>1264196770339959068</td>\n",
       "      <td>NaN</td>\n",
       "      <td>NaN</td>\n",
       "      <td>NaN</td>\n",
       "    </tr>\n",
       "    <tr>\n",
       "      <th>1</th>\n",
       "      <td>1465412560</td>\n",
       "      <td>VIEW</td>\n",
       "      <td>8890720798209849691</td>\n",
       "      <td>-1032019229384696495</td>\n",
       "      <td>3621737643587579081</td>\n",
       "      <td>Mozilla/5.0 (Macintosh; Intel Mac OS X 10_11_2...</td>\n",
       "      <td>NY</td>\n",
       "      <td>US</td>\n",
       "    </tr>\n",
       "    <tr>\n",
       "      <th>2</th>\n",
       "      <td>1465416190</td>\n",
       "      <td>VIEW</td>\n",
       "      <td>310515487419366995</td>\n",
       "      <td>-1130272294246983140</td>\n",
       "      <td>2631864456530402479</td>\n",
       "      <td>NaN</td>\n",
       "      <td>NaN</td>\n",
       "      <td>NaN</td>\n",
       "    </tr>\n",
       "    <tr>\n",
       "      <th>3</th>\n",
       "      <td>1465413895</td>\n",
       "      <td>FOLLOW</td>\n",
       "      <td>310515487419366995</td>\n",
       "      <td>344280948527967603</td>\n",
       "      <td>-3167637573980064150</td>\n",
       "      <td>NaN</td>\n",
       "      <td>NaN</td>\n",
       "      <td>NaN</td>\n",
       "    </tr>\n",
       "    <tr>\n",
       "      <th>4</th>\n",
       "      <td>1465412290</td>\n",
       "      <td>VIEW</td>\n",
       "      <td>-7820640624231356730</td>\n",
       "      <td>-445337111692715325</td>\n",
       "      <td>5611481178424124714</td>\n",
       "      <td>NaN</td>\n",
       "      <td>NaN</td>\n",
       "      <td>NaN</td>\n",
       "    </tr>\n",
       "  </tbody>\n",
       "</table>\n",
       "</div>"
      ],
      "text/plain": [
       "    timestamp eventType            contentId             personId  \\\n",
       "0  1465413032      VIEW -3499919498720038879 -8845298781299428018   \n",
       "1  1465412560      VIEW  8890720798209849691 -1032019229384696495   \n",
       "2  1465416190      VIEW   310515487419366995 -1130272294246983140   \n",
       "3  1465413895    FOLLOW   310515487419366995   344280948527967603   \n",
       "4  1465412290      VIEW -7820640624231356730  -445337111692715325   \n",
       "\n",
       "             sessionId                                          userAgent  \\\n",
       "0  1264196770339959068                                                NaN   \n",
       "1  3621737643587579081  Mozilla/5.0 (Macintosh; Intel Mac OS X 10_11_2...   \n",
       "2  2631864456530402479                                                NaN   \n",
       "3 -3167637573980064150                                                NaN   \n",
       "4  5611481178424124714                                                NaN   \n",
       "\n",
       "  userRegion userCountry  \n",
       "0        NaN         NaN  \n",
       "1         NY          US  \n",
       "2        NaN         NaN  \n",
       "3        NaN         NaN  \n",
       "4        NaN         NaN  "
      ]
     },
     "execution_count": 1,
     "metadata": {},
     "output_type": "execute_result"
    }
   ],
   "source": [
    "import pandas as pd\n",
    "\n",
    "df_shared = pd.read_csv(r\"C:\\Users\\early\\Downloads\\shared_articles.csv\")\n",
    "df_user = pd.read_csv(r\"C:\\Users\\early\\Downloads\\users_interactions.csv\")\n",
    "\n",
    "df_user.head()"
   ]
  },
  {
   "cell_type": "code",
   "execution_count": 2,
   "metadata": {},
   "outputs": [],
   "source": [
    "df_articles = df_shared.drop(columns='timestamp')\n",
    "df_interactions = df_user.drop(columns='timestamp')\n",
    "\n",
    "df_interactions = df_interactions[df_interactions['eventType'].isin(['VIEW', 'LIKE', 'BOOKMARK', 'FOLLOW', 'COMMENT'])]\n",
    "df_interactions = df_interactions.drop_duplicates(subset=['personId', 'contentId'], keep='last')\n",
    "\n",
    "user_activity = df_interactions.groupby('personId').size()\n",
    "active_users = user_activity[user_activity >= 3].index\n",
    "df_interactions = df_interactions[df_interactions['personId'].isin(active_users)]\n",
    "\n",
    "value_counts = df_interactions['contentId'].value_counts()\n",
    "keep_list = value_counts[value_counts >= 9]\n",
    "df_interactions_reduced = df_interactions[df_interactions['contentId'].isin(keep_list.index)]\n"
   ]
  },
  {
   "cell_type": "code",
   "execution_count": 3,
   "metadata": {},
   "outputs": [
    {
     "name": "stdout",
     "output_type": "stream",
     "text": [
      "Number of interactions: 39995\n",
      "Number of articles: 2985\n",
      "Number of users: 1400\n",
      "Sparsity: 0.9904\n"
     ]
    }
   ],
   "source": [
    "print(f\"Number of interactions: {len(df_interactions)}\")\n",
    "print(f\"Number of articles: {df_interactions.contentId.nunique()}\")\n",
    "print(f\"Number of users: {df_interactions.personId.nunique()}\")\n",
    "\n",
    "sparsity = 1 - (len(df_interactions)) / (df_interactions.contentId.nunique() * df_interactions.personId.nunique())\n",
    "print(f\"Sparsity: {sparsity:.4f}\")"
   ]
  },
  {
   "cell_type": "code",
   "execution_count": 4,
   "metadata": {},
   "outputs": [
    {
     "name": "stdout",
     "output_type": "stream",
     "text": [
      "Min:\t\t 1\n",
      "Quartile 1:\t 4.0\n",
      "Median:\t\t 9.0\n",
      "Quartile 3:\t 17.0\n",
      "Max:\t\t 237\n"
     ]
    }
   ],
   "source": [
    "print('Min:\\t\\t', df_interactions['contentId'].value_counts().min())\n",
    "print('Quartile 1:\\t', df_interactions['contentId'].value_counts().quantile(0.25))\n",
    "print('Median:\\t\\t', df_interactions['contentId'].value_counts().quantile(0.5))\n",
    "print('Quartile 3:\\t', df_interactions['contentId'].value_counts().quantile(0.75))\n",
    "print('Max:\\t\\t', df_interactions['contentId'].value_counts().max())\n"
   ]
  },
  {
   "cell_type": "code",
   "execution_count": 5,
   "metadata": {},
   "outputs": [
    {
     "name": "stdout",
     "output_type": "stream",
     "text": [
      "Min:\t\t 3\n",
      "Quartile 1:\t 5.0\n",
      "Median:\t\t 11.0\n",
      "Quartile 3:\t 27.0\n",
      "Max:\t\t 961\n"
     ]
    }
   ],
   "source": [
    "print('Min:\\t\\t', df_interactions['personId'].value_counts().min())\n",
    "print('Quartile 1:\\t', df_interactions['personId'].value_counts().quantile(0.25))\n",
    "print('Median:\\t\\t', df_interactions['personId'].value_counts().quantile(0.5))\n",
    "print('Quartile 3:\\t', df_interactions['personId'].value_counts().quantile(0.75))\n",
    "print('Max:\\t\\t', df_interactions['personId'].value_counts().max())\n"
   ]
  },
  {
   "cell_type": "code",
   "execution_count": 6,
   "metadata": {},
   "outputs": [],
   "source": [
    "from scipy.sparse import csr_matrix\n",
    "import numpy as np\n",
    "\n",
    "U = df_interactions_reduced['personId'].nunique()\n",
    "I = df_interactions_reduced['contentId'].nunique()\n",
    "\n",
    "user_mapper = dict(zip(np.unique(df_interactions_reduced['personId']), list(range(U))))\n",
    "item_mapper = dict(zip(np.unique(df_interactions_reduced['contentId']), list(range(I))))\n",
    "\n",
    "user_inv_mapper = dict(zip(list(range(U)), np.unique(df_interactions_reduced['personId'])))\n",
    "item_inv_mapper = dict(zip(list(range(I)), np.unique(df_interactions_reduced['contentId'])))\n",
    "\n",
    "user_index = [user_mapper[i] for i in df_interactions_reduced['personId']]\n",
    "item_index = [item_mapper[i] for i in df_interactions_reduced['contentId']]\n",
    "\n",
    "X = csr_matrix((np.ones(len(user_index)), (item_index, user_index)), shape=(I, U))\n"
   ]
  },
  {
   "cell_type": "code",
   "execution_count": 7,
   "metadata": {},
   "outputs": [],
   "source": [
    "from sklearn.neighbors import NearestNeighbors\n",
    "\n",
    "def recommend(itemId, X, item_mapper, item_inv_mapper, k, metric='cosine', messages=True):\n",
    "    rec_ids = []\n",
    "\n",
    "    item = item_mapper[itemId]\n",
    "    item_vector = X[item]\n",
    "\n",
    "    knn = NearestNeighbors(n_neighbors=k+1, algorithm=\"brute\", metric=metric).fit(X)\n",
    "    rec = knn.kneighbors(item_vector.reshape(1, -1), return_distance=True)\n",
    "\n",
    "    rec_indices = rec[1][0][1:]\n",
    "    rec_distances = rec[0][0][1:]\n",
    "\n",
    "    for idx in rec_indices:\n",
    "        rec_ids.append(item_inv_mapper[idx])\n",
    "\n",
    "    if messages:\n",
    "        print(f'List of recommended item indices:\\n{rec_indices}\\n')\n",
    "        print(f'List of recommended contentIds:\\n{rec_ids}\\n')\n",
    "        print(f'Similarity distances:\\n{rec_distances}\\n')\n",
    "\n",
    "    return rec_ids, rec_distances\n"
   ]
  },
  {
   "cell_type": "code",
   "execution_count": 8,
   "metadata": {},
   "outputs": [
    {
     "name": "stdout",
     "output_type": "stream",
     "text": [
      "List of recommended item indices:\n",
      "[1234  612  648  115  107]\n",
      "\n",
      "List of recommended contentIds:\n",
      "[np.int64(5688279681867464747), np.int64(-1625217607550912638), np.int64(-1196068832249300490), np.int64(-8018088591294066196), np.int64(-8142426490949346803)]\n",
      "\n",
      "Similarity distances:\n",
      "[0.49748109 0.5545646  0.59798487 0.61509982 0.65573481]\n",
      "\n",
      "If you like article ID 3460026829794173084 (TAM recebe primeira aeronave com o design e pintura da LATAM e avança na implantação da nova marca!), you may also enjoy:\n",
      "\n",
      "                                                                  title\n",
      "contentId                                                              \n",
      " 5688279681867464747  Margaret Gould Stewart: How giant websites des...\n",
      "-1625217607550912638  Google made a huge change to the way Google Ma...\n",
      "-1196068832249300490                  The 'impossible' is now a reality\n",
      "-8018088591294066196      LOGOBR School | Behance Reviews Campinas 2016\n",
      "-8142426490949346803  A identidade visual de Budapeste para as Olimp...\n"
     ]
    }
   ],
   "source": [
    "df_articles.set_index('contentId', inplace=True)\n",
    "\n",
    "article_id = df_interactions_reduced['contentId'].iloc[0]\n",
    "\n",
    "rec_ids, rec_distances = recommend(article_id, X, item_mapper, item_inv_mapper, k=5)\n",
    "\n",
    "original_title = df_articles.loc[article_id, 'title']\n",
    "print(f\"If you like article ID {article_id} ({original_title}), you may also enjoy:\\n\")\n",
    "\n",
    "valid_rec_ids = [rid for rid in rec_ids if rid in df_articles.index]\n",
    "\n",
    "print(df_articles.loc[valid_rec_ids][['title']])\n"
   ]
  },
  {
   "cell_type": "code",
   "execution_count": 9,
   "metadata": {},
   "outputs": [],
   "source": [
    "import pickle\n",
    "\n",
    "with open('collaborative_model.sav', 'wb') as f:\n",
    "    pickle.dump((X, item_mapper, item_inv_mapper), f)"
   ]
  },
  {
   "cell_type": "code",
   "execution_count": 10,
   "metadata": {},
   "outputs": [
    {
     "data": {
      "text/plain": [
       "-1032019229384696495"
      ]
     },
     "execution_count": 10,
     "metadata": {},
     "output_type": "execute_result"
    }
   ],
   "source": [
    "-1032019229384696495"
   ]
  },
  {
   "cell_type": "code",
   "execution_count": 11,
   "metadata": {},
   "outputs": [
    {
     "name": "stdout",
     "output_type": "stream",
     "text": [
      "User -1032019229384696495 has interacted with 431 articles.\n",
      "Recommending based on the first article they interacted with...\n",
      "\n",
      "List of recommended item indices:\n",
      "[1493 1191  717  452 1014]\n",
      "\n",
      "List of recommended contentIds:\n",
      "[np.int64(8890720798209849691), np.int64(5206308811707978799), np.int64(-447851796385928420), np.int64(-3750879736572068916), np.int64(3149164017776669829)]\n",
      "\n",
      "Similarity distances:\n",
      "[0.59490425 0.60196884 0.61256749 0.61710793 0.61885551]\n",
      "\n",
      "If user -1032019229384696495 liked article ID -8518096793350810174 (Microsoft adquire LinkedIn por US$ 26,2 bilhões), they may also enjoy:\n",
      "\n",
      "                                                                  title\n",
      "contentId                                                              \n",
      " 8890720798209849691                     Top 10 Intranet Trends of 2016\n",
      " 5206308811707978799                                   The rise of APIs\n",
      "-447851796385928420   MOBILE TIME - FlyHelo: app permite compartilha...\n",
      "-3750879736572068916  No, Apple isn't the next BlackBerry - it's the...\n",
      " 3149164017776669829                   Mobile marketing statistics 2016\n"
     ]
    }
   ],
   "source": [
    "# Pick a specific userId (personId)\n",
    "user_id = -1032019229384696495\n",
    "\n",
    "# Get articles this user has interacted with\n",
    "user_articles = df_interactions_reduced[df_interactions_reduced['personId'] == user_id]['contentId'].tolist()\n",
    "\n",
    "print(f\"User {user_id} has interacted with {len(user_articles)} articles.\")\n",
    "print(\"Recommending based on the first article they interacted with...\\n\")\n",
    "\n",
    "# Pick one of the articles (you can try others too)\n",
    "article_id = user_articles[0]\n",
    "\n",
    "# Recommend similar articles\n",
    "rec_ids, rec_distances = recommend(article_id, X, item_mapper, item_inv_mapper, k=5)\n",
    "\n",
    "# Show original title\n",
    "original_title = df_articles.loc[article_id, 'title']\n",
    "print(f\"If user {user_id} liked article ID {article_id} ({original_title}), they may also enjoy:\\n\")\n",
    "\n",
    "# Display recommended article titles\n",
    "valid_rec_ids = [rid for rid in rec_ids if rid in df_articles.index]\n",
    "print(df_articles.loc[valid_rec_ids][['title']])\n"
   ]
  },
  {
   "cell_type": "code",
   "execution_count": 12,
   "metadata": {},
   "outputs": [],
   "source": [
    "recommendations_df = pd.DataFrame({\n",
    "    'input_contentId': [article_id] * len(rec_ids),\n",
    "    'recommended_contentId': rec_ids,\n",
    "    'similarity': rec_distances\n",
    "})\n",
    "\n",
    "recommendations_df.to_csv('collaborative_recommendations.csv', index=False)"
   ]
  }
 ],
 "metadata": {
  "kernelspec": {
   "display_name": "Python 3",
   "language": "python",
   "name": "python3"
  },
  "language_info": {
   "codemirror_mode": {
    "name": "ipython",
    "version": 3
   },
   "file_extension": ".py",
   "mimetype": "text/x-python",
   "name": "python",
   "nbconvert_exporter": "python",
   "pygments_lexer": "ipython3",
   "version": "3.12.1"
  }
 },
 "nbformat": 4,
 "nbformat_minor": 2
}
